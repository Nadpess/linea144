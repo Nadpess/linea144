{
  "nbformat": 4,
  "nbformat_minor": 0,
  "metadata": {
    "colab": {
      "provenance": []
    },
    "kernelspec": {
      "name": "python3",
      "display_name": "Python 3"
    },
    "language_info": {
      "name": "python"
    }
  },
  "cells": [
    {
      "cell_type": "markdown",
      "source": [
        "# **En este documento se desarrollan los modelos de asociación y clasificación seleccionados para el caso**\n",
        "\n"
      ],
      "metadata": {
        "id": "VIOjUC-BsGZM"
      }
    },
    {
      "cell_type": "markdown",
      "source": [
        "##Se cargan las bibliotecas"
      ],
      "metadata": {
        "id": "BMn9AzyxugtP"
      }
    },
    {
      "cell_type": "code",
      "source": [
        "!pip install numpy\n",
        "!pip install pandas"
      ],
      "metadata": {
        "colab": {
          "base_uri": "https://localhost:8080/"
        },
        "id": "9Z_PIogILAGH",
        "outputId": "d31ab083-95f5-4af9-b26b-d66fac7bae63"
      },
      "execution_count": 18,
      "outputs": [
        {
          "output_type": "stream",
          "name": "stdout",
          "text": [
            "Requirement already satisfied: numpy in /usr/local/lib/python3.10/dist-packages (1.26.4)\n",
            "Requirement already satisfied: pandas in /usr/local/lib/python3.10/dist-packages (2.1.4)\n",
            "Requirement already satisfied: numpy<2,>=1.22.4 in /usr/local/lib/python3.10/dist-packages (from pandas) (1.26.4)\n",
            "Requirement already satisfied: python-dateutil>=2.8.2 in /usr/local/lib/python3.10/dist-packages (from pandas) (2.8.2)\n",
            "Requirement already satisfied: pytz>=2020.1 in /usr/local/lib/python3.10/dist-packages (from pandas) (2024.1)\n",
            "Requirement already satisfied: tzdata>=2022.1 in /usr/local/lib/python3.10/dist-packages (from pandas) (2024.1)\n",
            "Requirement already satisfied: six>=1.5 in /usr/local/lib/python3.10/dist-packages (from python-dateutil>=2.8.2->pandas) (1.16.0)\n"
          ]
        }
      ]
    },
    {
      "cell_type": "code",
      "source": [
        "import numpy as np\n",
        "import pandas as pd\n",
        "import matplotlib.pyplot as plt\n",
        "import seaborn as sns\n"
      ],
      "metadata": {
        "id": "SeNis_ehuULh"
      },
      "execution_count": 19,
      "outputs": []
    },
    {
      "cell_type": "markdown",
      "source": [
        "##Se carga la base con la que se trabajará y se renombrarán las columnas para su mejor visualización"
      ],
      "metadata": {
        "id": "0YlJ0HqmtMDi"
      }
    },
    {
      "cell_type": "code",
      "source": [
        "tabla_violencias = pd.read_csv('/Tipo de violencias.csv')\n",
        "tabla_violencias.head()"
      ],
      "metadata": {
        "colab": {
          "base_uri": "https://localhost:8080/",
          "height": 243
        },
        "id": "FFxRmj25tLPa",
        "outputId": "30d46165-21bf-4f3a-c95e-8df98b2f4331"
      },
      "execution_count": 20,
      "outputs": [
        {
          "output_type": "execute_result",
          "data": {
            "text/plain": [
              "   Unnamed: 0 tipo_de_violencia_fisica tipo_de_violencia_psicologica  \\\n",
              "0           0                       Si                            Si   \n",
              "1           1                       Si                            Si   \n",
              "2           2                       Si                            Si   \n",
              "3           3                       No                            Si   \n",
              "4           4                       Si                            Si   \n",
              "\n",
              "  tipo_de_violencia_sexual tipo_de_violencia_economica_y_patrimonial  \\\n",
              "0                       No                                        No   \n",
              "1                       No                                        No   \n",
              "2                       No                                        No   \n",
              "3                       No                                        No   \n",
              "4                       No                                        No   \n",
              "\n",
              "  tipo_de_violencia_simbolica tipo_de_violencia_domestica  cluster  \\\n",
              "0                          No                          Si        1   \n",
              "1                          No                          Si        1   \n",
              "2                          No                          Si        1   \n",
              "3                          No                          Si        1   \n",
              "4                          No                          Si        1   \n",
              "\n",
              "   cluster_predicted  dbscan_cluster  \n",
              "0                  2               0  \n",
              "1                  2               0  \n",
              "2                  2               0  \n",
              "3                  1               1  \n",
              "4                  2               0  "
            ],
            "text/html": [
              "\n",
              "  <div id=\"df-51b1c161-8f08-4aa3-b078-6c6e803c106c\" class=\"colab-df-container\">\n",
              "    <div>\n",
              "<style scoped>\n",
              "    .dataframe tbody tr th:only-of-type {\n",
              "        vertical-align: middle;\n",
              "    }\n",
              "\n",
              "    .dataframe tbody tr th {\n",
              "        vertical-align: top;\n",
              "    }\n",
              "\n",
              "    .dataframe thead th {\n",
              "        text-align: right;\n",
              "    }\n",
              "</style>\n",
              "<table border=\"1\" class=\"dataframe\">\n",
              "  <thead>\n",
              "    <tr style=\"text-align: right;\">\n",
              "      <th></th>\n",
              "      <th>Unnamed: 0</th>\n",
              "      <th>tipo_de_violencia_fisica</th>\n",
              "      <th>tipo_de_violencia_psicologica</th>\n",
              "      <th>tipo_de_violencia_sexual</th>\n",
              "      <th>tipo_de_violencia_economica_y_patrimonial</th>\n",
              "      <th>tipo_de_violencia_simbolica</th>\n",
              "      <th>tipo_de_violencia_domestica</th>\n",
              "      <th>cluster</th>\n",
              "      <th>cluster_predicted</th>\n",
              "      <th>dbscan_cluster</th>\n",
              "    </tr>\n",
              "  </thead>\n",
              "  <tbody>\n",
              "    <tr>\n",
              "      <th>0</th>\n",
              "      <td>0</td>\n",
              "      <td>Si</td>\n",
              "      <td>Si</td>\n",
              "      <td>No</td>\n",
              "      <td>No</td>\n",
              "      <td>No</td>\n",
              "      <td>Si</td>\n",
              "      <td>1</td>\n",
              "      <td>2</td>\n",
              "      <td>0</td>\n",
              "    </tr>\n",
              "    <tr>\n",
              "      <th>1</th>\n",
              "      <td>1</td>\n",
              "      <td>Si</td>\n",
              "      <td>Si</td>\n",
              "      <td>No</td>\n",
              "      <td>No</td>\n",
              "      <td>No</td>\n",
              "      <td>Si</td>\n",
              "      <td>1</td>\n",
              "      <td>2</td>\n",
              "      <td>0</td>\n",
              "    </tr>\n",
              "    <tr>\n",
              "      <th>2</th>\n",
              "      <td>2</td>\n",
              "      <td>Si</td>\n",
              "      <td>Si</td>\n",
              "      <td>No</td>\n",
              "      <td>No</td>\n",
              "      <td>No</td>\n",
              "      <td>Si</td>\n",
              "      <td>1</td>\n",
              "      <td>2</td>\n",
              "      <td>0</td>\n",
              "    </tr>\n",
              "    <tr>\n",
              "      <th>3</th>\n",
              "      <td>3</td>\n",
              "      <td>No</td>\n",
              "      <td>Si</td>\n",
              "      <td>No</td>\n",
              "      <td>No</td>\n",
              "      <td>No</td>\n",
              "      <td>Si</td>\n",
              "      <td>1</td>\n",
              "      <td>1</td>\n",
              "      <td>1</td>\n",
              "    </tr>\n",
              "    <tr>\n",
              "      <th>4</th>\n",
              "      <td>4</td>\n",
              "      <td>Si</td>\n",
              "      <td>Si</td>\n",
              "      <td>No</td>\n",
              "      <td>No</td>\n",
              "      <td>No</td>\n",
              "      <td>Si</td>\n",
              "      <td>1</td>\n",
              "      <td>2</td>\n",
              "      <td>0</td>\n",
              "    </tr>\n",
              "  </tbody>\n",
              "</table>\n",
              "</div>\n",
              "    <div class=\"colab-df-buttons\">\n",
              "\n",
              "  <div class=\"colab-df-container\">\n",
              "    <button class=\"colab-df-convert\" onclick=\"convertToInteractive('df-51b1c161-8f08-4aa3-b078-6c6e803c106c')\"\n",
              "            title=\"Convert this dataframe to an interactive table.\"\n",
              "            style=\"display:none;\">\n",
              "\n",
              "  <svg xmlns=\"http://www.w3.org/2000/svg\" height=\"24px\" viewBox=\"0 -960 960 960\">\n",
              "    <path d=\"M120-120v-720h720v720H120Zm60-500h600v-160H180v160Zm220 220h160v-160H400v160Zm0 220h160v-160H400v160ZM180-400h160v-160H180v160Zm440 0h160v-160H620v160ZM180-180h160v-160H180v160Zm440 0h160v-160H620v160Z\"/>\n",
              "  </svg>\n",
              "    </button>\n",
              "\n",
              "  <style>\n",
              "    .colab-df-container {\n",
              "      display:flex;\n",
              "      gap: 12px;\n",
              "    }\n",
              "\n",
              "    .colab-df-convert {\n",
              "      background-color: #E8F0FE;\n",
              "      border: none;\n",
              "      border-radius: 50%;\n",
              "      cursor: pointer;\n",
              "      display: none;\n",
              "      fill: #1967D2;\n",
              "      height: 32px;\n",
              "      padding: 0 0 0 0;\n",
              "      width: 32px;\n",
              "    }\n",
              "\n",
              "    .colab-df-convert:hover {\n",
              "      background-color: #E2EBFA;\n",
              "      box-shadow: 0px 1px 2px rgba(60, 64, 67, 0.3), 0px 1px 3px 1px rgba(60, 64, 67, 0.15);\n",
              "      fill: #174EA6;\n",
              "    }\n",
              "\n",
              "    .colab-df-buttons div {\n",
              "      margin-bottom: 4px;\n",
              "    }\n",
              "\n",
              "    [theme=dark] .colab-df-convert {\n",
              "      background-color: #3B4455;\n",
              "      fill: #D2E3FC;\n",
              "    }\n",
              "\n",
              "    [theme=dark] .colab-df-convert:hover {\n",
              "      background-color: #434B5C;\n",
              "      box-shadow: 0px 1px 3px 1px rgba(0, 0, 0, 0.15);\n",
              "      filter: drop-shadow(0px 1px 2px rgba(0, 0, 0, 0.3));\n",
              "      fill: #FFFFFF;\n",
              "    }\n",
              "  </style>\n",
              "\n",
              "    <script>\n",
              "      const buttonEl =\n",
              "        document.querySelector('#df-51b1c161-8f08-4aa3-b078-6c6e803c106c button.colab-df-convert');\n",
              "      buttonEl.style.display =\n",
              "        google.colab.kernel.accessAllowed ? 'block' : 'none';\n",
              "\n",
              "      async function convertToInteractive(key) {\n",
              "        const element = document.querySelector('#df-51b1c161-8f08-4aa3-b078-6c6e803c106c');\n",
              "        const dataTable =\n",
              "          await google.colab.kernel.invokeFunction('convertToInteractive',\n",
              "                                                    [key], {});\n",
              "        if (!dataTable) return;\n",
              "\n",
              "        const docLinkHtml = 'Like what you see? Visit the ' +\n",
              "          '<a target=\"_blank\" href=https://colab.research.google.com/notebooks/data_table.ipynb>data table notebook</a>'\n",
              "          + ' to learn more about interactive tables.';\n",
              "        element.innerHTML = '';\n",
              "        dataTable['output_type'] = 'display_data';\n",
              "        await google.colab.output.renderOutput(dataTable, element);\n",
              "        const docLink = document.createElement('div');\n",
              "        docLink.innerHTML = docLinkHtml;\n",
              "        element.appendChild(docLink);\n",
              "      }\n",
              "    </script>\n",
              "  </div>\n",
              "\n",
              "\n",
              "<div id=\"df-83557bf1-561d-43a3-b9ff-546c492e5b1d\">\n",
              "  <button class=\"colab-df-quickchart\" onclick=\"quickchart('df-83557bf1-561d-43a3-b9ff-546c492e5b1d')\"\n",
              "            title=\"Suggest charts\"\n",
              "            style=\"display:none;\">\n",
              "\n",
              "<svg xmlns=\"http://www.w3.org/2000/svg\" height=\"24px\"viewBox=\"0 0 24 24\"\n",
              "     width=\"24px\">\n",
              "    <g>\n",
              "        <path d=\"M19 3H5c-1.1 0-2 .9-2 2v14c0 1.1.9 2 2 2h14c1.1 0 2-.9 2-2V5c0-1.1-.9-2-2-2zM9 17H7v-7h2v7zm4 0h-2V7h2v10zm4 0h-2v-4h2v4z\"/>\n",
              "    </g>\n",
              "</svg>\n",
              "  </button>\n",
              "\n",
              "<style>\n",
              "  .colab-df-quickchart {\n",
              "      --bg-color: #E8F0FE;\n",
              "      --fill-color: #1967D2;\n",
              "      --hover-bg-color: #E2EBFA;\n",
              "      --hover-fill-color: #174EA6;\n",
              "      --disabled-fill-color: #AAA;\n",
              "      --disabled-bg-color: #DDD;\n",
              "  }\n",
              "\n",
              "  [theme=dark] .colab-df-quickchart {\n",
              "      --bg-color: #3B4455;\n",
              "      --fill-color: #D2E3FC;\n",
              "      --hover-bg-color: #434B5C;\n",
              "      --hover-fill-color: #FFFFFF;\n",
              "      --disabled-bg-color: #3B4455;\n",
              "      --disabled-fill-color: #666;\n",
              "  }\n",
              "\n",
              "  .colab-df-quickchart {\n",
              "    background-color: var(--bg-color);\n",
              "    border: none;\n",
              "    border-radius: 50%;\n",
              "    cursor: pointer;\n",
              "    display: none;\n",
              "    fill: var(--fill-color);\n",
              "    height: 32px;\n",
              "    padding: 0;\n",
              "    width: 32px;\n",
              "  }\n",
              "\n",
              "  .colab-df-quickchart:hover {\n",
              "    background-color: var(--hover-bg-color);\n",
              "    box-shadow: 0 1px 2px rgba(60, 64, 67, 0.3), 0 1px 3px 1px rgba(60, 64, 67, 0.15);\n",
              "    fill: var(--button-hover-fill-color);\n",
              "  }\n",
              "\n",
              "  .colab-df-quickchart-complete:disabled,\n",
              "  .colab-df-quickchart-complete:disabled:hover {\n",
              "    background-color: var(--disabled-bg-color);\n",
              "    fill: var(--disabled-fill-color);\n",
              "    box-shadow: none;\n",
              "  }\n",
              "\n",
              "  .colab-df-spinner {\n",
              "    border: 2px solid var(--fill-color);\n",
              "    border-color: transparent;\n",
              "    border-bottom-color: var(--fill-color);\n",
              "    animation:\n",
              "      spin 1s steps(1) infinite;\n",
              "  }\n",
              "\n",
              "  @keyframes spin {\n",
              "    0% {\n",
              "      border-color: transparent;\n",
              "      border-bottom-color: var(--fill-color);\n",
              "      border-left-color: var(--fill-color);\n",
              "    }\n",
              "    20% {\n",
              "      border-color: transparent;\n",
              "      border-left-color: var(--fill-color);\n",
              "      border-top-color: var(--fill-color);\n",
              "    }\n",
              "    30% {\n",
              "      border-color: transparent;\n",
              "      border-left-color: var(--fill-color);\n",
              "      border-top-color: var(--fill-color);\n",
              "      border-right-color: var(--fill-color);\n",
              "    }\n",
              "    40% {\n",
              "      border-color: transparent;\n",
              "      border-right-color: var(--fill-color);\n",
              "      border-top-color: var(--fill-color);\n",
              "    }\n",
              "    60% {\n",
              "      border-color: transparent;\n",
              "      border-right-color: var(--fill-color);\n",
              "    }\n",
              "    80% {\n",
              "      border-color: transparent;\n",
              "      border-right-color: var(--fill-color);\n",
              "      border-bottom-color: var(--fill-color);\n",
              "    }\n",
              "    90% {\n",
              "      border-color: transparent;\n",
              "      border-bottom-color: var(--fill-color);\n",
              "    }\n",
              "  }\n",
              "</style>\n",
              "\n",
              "  <script>\n",
              "    async function quickchart(key) {\n",
              "      const quickchartButtonEl =\n",
              "        document.querySelector('#' + key + ' button');\n",
              "      quickchartButtonEl.disabled = true;  // To prevent multiple clicks.\n",
              "      quickchartButtonEl.classList.add('colab-df-spinner');\n",
              "      try {\n",
              "        const charts = await google.colab.kernel.invokeFunction(\n",
              "            'suggestCharts', [key], {});\n",
              "      } catch (error) {\n",
              "        console.error('Error during call to suggestCharts:', error);\n",
              "      }\n",
              "      quickchartButtonEl.classList.remove('colab-df-spinner');\n",
              "      quickchartButtonEl.classList.add('colab-df-quickchart-complete');\n",
              "    }\n",
              "    (() => {\n",
              "      let quickchartButtonEl =\n",
              "        document.querySelector('#df-83557bf1-561d-43a3-b9ff-546c492e5b1d button');\n",
              "      quickchartButtonEl.style.display =\n",
              "        google.colab.kernel.accessAllowed ? 'block' : 'none';\n",
              "    })();\n",
              "  </script>\n",
              "</div>\n",
              "\n",
              "    </div>\n",
              "  </div>\n"
            ],
            "application/vnd.google.colaboratory.intrinsic+json": {
              "type": "dataframe",
              "variable_name": "tabla_violencias",
              "summary": "{\n  \"name\": \"tabla_violencias\",\n  \"rows\": 89540,\n  \"fields\": [\n    {\n      \"column\": \"Unnamed: 0\",\n      \"properties\": {\n        \"dtype\": \"number\",\n        \"std\": 25848,\n        \"min\": 0,\n        \"max\": 89539,\n        \"num_unique_values\": 89540,\n        \"samples\": [\n          11265,\n          51979,\n          5158\n        ],\n        \"semantic_type\": \"\",\n        \"description\": \"\"\n      }\n    },\n    {\n      \"column\": \"tipo_de_violencia_fisica\",\n      \"properties\": {\n        \"dtype\": \"category\",\n        \"num_unique_values\": 2,\n        \"samples\": [\n          \"No\",\n          \"Si\"\n        ],\n        \"semantic_type\": \"\",\n        \"description\": \"\"\n      }\n    },\n    {\n      \"column\": \"tipo_de_violencia_psicologica\",\n      \"properties\": {\n        \"dtype\": \"category\",\n        \"num_unique_values\": 2,\n        \"samples\": [\n          \"No\",\n          \"Si\"\n        ],\n        \"semantic_type\": \"\",\n        \"description\": \"\"\n      }\n    },\n    {\n      \"column\": \"tipo_de_violencia_sexual\",\n      \"properties\": {\n        \"dtype\": \"category\",\n        \"num_unique_values\": 2,\n        \"samples\": [\n          \"Si\",\n          \"No\"\n        ],\n        \"semantic_type\": \"\",\n        \"description\": \"\"\n      }\n    },\n    {\n      \"column\": \"tipo_de_violencia_economica_y_patrimonial\",\n      \"properties\": {\n        \"dtype\": \"category\",\n        \"num_unique_values\": 2,\n        \"samples\": [\n          \"Si\",\n          \"No\"\n        ],\n        \"semantic_type\": \"\",\n        \"description\": \"\"\n      }\n    },\n    {\n      \"column\": \"tipo_de_violencia_simbolica\",\n      \"properties\": {\n        \"dtype\": \"category\",\n        \"num_unique_values\": 2,\n        \"samples\": [\n          \"Si\",\n          \"No\"\n        ],\n        \"semantic_type\": \"\",\n        \"description\": \"\"\n      }\n    },\n    {\n      \"column\": \"tipo_de_violencia_domestica\",\n      \"properties\": {\n        \"dtype\": \"category\",\n        \"num_unique_values\": 2,\n        \"samples\": [\n          \"No\",\n          \"Si\"\n        ],\n        \"semantic_type\": \"\",\n        \"description\": \"\"\n      }\n    },\n    {\n      \"column\": \"cluster\",\n      \"properties\": {\n        \"dtype\": \"number\",\n        \"std\": 0,\n        \"min\": 0,\n        \"max\": 2,\n        \"num_unique_values\": 3,\n        \"samples\": [\n          1,\n          2\n        ],\n        \"semantic_type\": \"\",\n        \"description\": \"\"\n      }\n    },\n    {\n      \"column\": \"cluster_predicted\",\n      \"properties\": {\n        \"dtype\": \"number\",\n        \"std\": 0,\n        \"min\": 0,\n        \"max\": 2,\n        \"num_unique_values\": 3,\n        \"samples\": [\n          2,\n          1\n        ],\n        \"semantic_type\": \"\",\n        \"description\": \"\"\n      }\n    },\n    {\n      \"column\": \"dbscan_cluster\",\n      \"properties\": {\n        \"dtype\": \"number\",\n        \"std\": 9,\n        \"min\": -1,\n        \"max\": 57,\n        \"num_unique_values\": 59,\n        \"samples\": [\n          0,\n          5\n        ],\n        \"semantic_type\": \"\",\n        \"description\": \"\"\n      }\n    }\n  ]\n}"
            }
          },
          "metadata": {},
          "execution_count": 20
        }
      ]
    },
    {
      "cell_type": "code",
      "source": [
        "tabla_violencias = tabla_violencias.rename(columns={'tipo_de_violencia_fisica': 'TVF', 'tipo_de_violencia_psicologica': 'TVP','tipo_de_violencia_sexual': 'TVSE','tipo_de_violencia_economica_y_patrimonial': 'TVE','tipo_de_violencia_simbolica': 'TVSI','tipo_de_violencia_domestica': 'TVD'})"
      ],
      "metadata": {
        "id": "RvlK4Qr6wrT_"
      },
      "execution_count": 21,
      "outputs": []
    },
    {
      "cell_type": "markdown",
      "source": [
        "##Algoritmo Apriori\n",
        "\n",
        "Se considera que para el objetivo de observar la co ocurrencia de los tipos de violencia es muy útil aplicar el algorimo Apriori que permite generar distintas reglas de asociación entre los diferentes tipos de violencia.\n",
        "\n",
        "Se aplica este algoritmo con un **soporte de 0.6** para realizar el cruce de las variables con mayor correlación de acuerdo a lo observado en la descripción de la base Tipo de violencias."
      ],
      "metadata": {
        "id": "GjEmhwSWsUX1"
      }
    },
    {
      "cell_type": "code",
      "source": [
        "# prompt: Mediante el marco de datos tabla_violencias: apriori\n",
        "\n",
        "from mlxtend.frequent_patterns import apriori, association_rules\n",
        "\n",
        "# Assuming 'tabla_violencias' is a Pandas DataFrame with categorical columns\n",
        "# Convert categorical columns to boolean (True/False) for Apriori\n",
        "tabla_violencias_encoded = tabla_violencias.apply(lambda x: x == 'Si')\n",
        "\n",
        "# Apply Apriori algorithm\n",
        "frequent_itemsets = apriori(tabla_violencias_encoded, min_support=0.5, use_colnames=True)\n",
        "\n",
        "# Generate association rules\n",
        "rules = association_rules(frequent_itemsets, metric=\"confidence\", min_threshold=0.5)\n",
        "\n",
        "print(rules) # Display the generated association rules\n"
      ],
      "metadata": {
        "colab": {
          "base_uri": "https://localhost:8080/"
        },
        "id": "BgGfWB9fRshc",
        "outputId": "26c60c0f-df02-4e53-c301-403ef8b33334"
      },
      "execution_count": 22,
      "outputs": [
        {
          "output_type": "stream",
          "name": "stdout",
          "text": [
            "   antecedents consequents  antecedent support  consequent support   support  \\\n",
            "0        (TVF)       (TVP)            0.658532            0.949218  0.639301   \n",
            "1        (TVP)       (TVF)            0.949218            0.658532  0.639301   \n",
            "2        (TVF)       (TVD)            0.658532            0.908365  0.630579   \n",
            "3        (TVD)       (TVF)            0.908365            0.658532  0.630579   \n",
            "4        (TVP)       (TVD)            0.949218            0.908365  0.877909   \n",
            "5        (TVD)       (TVP)            0.908365            0.949218  0.877909   \n",
            "6   (TVF, TVP)       (TVD)            0.639301            0.908365  0.614764   \n",
            "7   (TVF, TVD)       (TVP)            0.630579            0.949218  0.614764   \n",
            "8   (TVP, TVD)       (TVF)            0.877909            0.658532  0.614764   \n",
            "9        (TVF)  (TVP, TVD)            0.658532            0.877909  0.614764   \n",
            "10       (TVP)  (TVF, TVD)            0.949218            0.630579  0.614764   \n",
            "11       (TVD)  (TVF, TVP)            0.908365            0.639301  0.614764   \n",
            "\n",
            "    confidence      lift  leverage  conviction  zhangs_metric  \n",
            "0     0.970796  1.022732  0.014210    1.738878       0.065093  \n",
            "1     0.673503  1.022732  0.014210    1.045850       0.437699  \n",
            "2     0.957551  1.054148  0.032391    2.158713       0.150429  \n",
            "3     0.694191  1.054148  0.032391    1.116603       0.560556  \n",
            "4     0.924876  1.018177  0.015673    1.219786       0.351550  \n",
            "5     0.966472  1.018177  0.015673    1.514608       0.194820  \n",
            "6     0.961620  1.058627  0.034046    2.387557       0.153536  \n",
            "7     0.974921  1.027078  0.016208    2.024887       0.071366  \n",
            "8     0.700260  1.063364  0.036633    1.139210       0.488063  \n",
            "9     0.933537  1.063364  0.036633    1.836968       0.174505  \n",
            "10    0.647653  1.027078  0.016208    1.048460       0.519165  \n",
            "11    0.676781  1.058627  0.034046    1.115960       0.604357  \n"
          ]
        }
      ]
    },
    {
      "cell_type": "markdown",
      "source": [
        "##Análisis de los resultados del algoritmo Apriori\n",
        "\n",
        "Se reconoce como importante, dados los parámetros antes mencionados, el resultado de la asociación entre el Tipo de violencia doméstica y el Tipo de violencia psicológica, dados los siguientes resultados:\n",
        "\n",
        "| antecedents | consequents | antecedent support | consequent support | support | confidence | lift | leverage | conviction | zhangs_metric |\n",
        "|---|---|---|---|---|---|---|---|---|---|\n",
        "| (TVP) | (TD) | 0.949218 | 0.908365 | 0.877909 | 0.924876 | 1.018177 | 0.015673 | 1.219786 | 0.351550 |\n",
        "| (TD) | (TVP) | 0.908365 | 0.949218 | 0.877909 | 0.966472 | 1.018177 | 0.015673 | 1.514608 | 0.194820 |\n",
        "\n",
        "Aquí se observa que el soporte es del 0.87, con una confianza del 0.92 y 0.96 dependiendo qué variable se disponga como antecedente.\n"
      ],
      "metadata": {
        "id": "s3bs1N-lvbg3"
      }
    },
    {
      "cell_type": "markdown",
      "source": [
        "##Clasificación por K-means"
      ],
      "metadata": {
        "id": "I9vfnTHh1ess"
      }
    },
    {
      "cell_type": "code",
      "source": [
        "import pandas as pd\n",
        "from sklearn.cluster import KMeans\n",
        "from sklearn.model_selection import train_test_split\n",
        "\n",
        "# Select features for clustering (excluding target and irrelevant columns)\n",
        "features = tabla_violencias[['TVF', 'TVP', 'TVSE', 'TVE', 'TVSI', 'TVD']]\n",
        "\n",
        "# Convert categorical features to numerical using one-hot encoding\n",
        "features_encoded = pd.get_dummies(features)\n",
        "\n",
        "# Split data into train and test sets\n",
        "X_train, X_test, y_train, y_test = train_test_split(features_encoded, tabla_violencias['cluster'], test_size=0.2, random_state=42)\n",
        "\n",
        "# Create and fit k-means model\n",
        "kmeans = KMeans(n_clusters=3, random_state=0)  # Assuming 3 clusters based on existing 'cluster' column\n",
        "kmeans.fit(X_train)\n",
        "\n",
        "# Predict clusters for test set\n",
        "y_pred = kmeans.predict(X_test)\n",
        "\n",
        "# Evaluate model performance (example using accuracy)\n",
        "from sklearn.metrics import accuracy_score\n",
        "accuracy = accuracy_score(y_test, y_pred)\n",
        "print(\"Accuracy:\", accuracy)\n"
      ],
      "metadata": {
        "colab": {
          "base_uri": "https://localhost:8080/"
        },
        "id": "bAihEm3yYlwW",
        "outputId": "53c474ad-97cf-46a8-d839-e329adb0b143"
      },
      "execution_count": 23,
      "outputs": [
        {
          "output_type": "stream",
          "name": "stderr",
          "text": [
            "/usr/local/lib/python3.10/dist-packages/ipykernel/ipkernel.py:283: DeprecationWarning: `should_run_async` will not call `transform_cell` automatically in the future. Please pass the result to `transformed_cell` argument and any exception that happen during thetransform in `preprocessing_exc_tuple` in IPython 7.17 and above.\n",
            "  and should_run_async(code)\n",
            "/usr/local/lib/python3.10/dist-packages/sklearn/cluster/_kmeans.py:1416: FutureWarning: The default value of `n_init` will change from 10 to 'auto' in 1.4. Set the value of `n_init` explicitly to suppress the warning\n",
            "  super()._check_params_vs_input(X, default_n_init=10)\n"
          ]
        },
        {
          "output_type": "stream",
          "name": "stdout",
          "text": [
            "Accuracy: 0.4533169533169533\n"
          ]
        }
      ]
    },
    {
      "cell_type": "code",
      "source": [
        "import pandas as pd\n",
        "from sklearn.cluster import KMeans\n",
        "from sklearn.metrics import silhouette_score\n",
        "\n",
        "# Assuming 'tabla_violencias' is your DataFrame and you want to use columns 'TVF' to 'TVD' for clustering\n",
        "X = pd.get_dummies(tabla_violencias.loc[:, 'TVP':'TVD'])\n",
        "\n",
        "# Se inicializa Kmeans con 3 clusters\n",
        "kmeans = KMeans(n_clusters=8)\n",
        "\n",
        "# Fit the model to your data\n",
        "kmeans.fit(X)\n",
        "\n",
        "# Get the cluster labels\n",
        "labels = kmeans.labels_\n",
        "\n",
        "# Calculate the Silhouette Score\n",
        "score = silhouette_score(X, labels)\n",
        "\n",
        "print(score)"
      ],
      "metadata": {
        "colab": {
          "base_uri": "https://localhost:8080/"
        },
        "id": "7rasAp548QFW",
        "outputId": "7b56a578-6d57-4a2d-cc02-c8fe9abe1354"
      },
      "execution_count": null,
      "outputs": [
        {
          "output_type": "stream",
          "name": "stderr",
          "text": [
            "/usr/local/lib/python3.10/dist-packages/ipykernel/ipkernel.py:283: DeprecationWarning: `should_run_async` will not call `transform_cell` automatically in the future. Please pass the result to `transformed_cell` argument and any exception that happen during thetransform in `preprocessing_exc_tuple` in IPython 7.17 and above.\n",
            "  and should_run_async(code)\n",
            "/usr/local/lib/python3.10/dist-packages/sklearn/cluster/_kmeans.py:1416: FutureWarning: The default value of `n_init` will change from 10 to 'auto' in 1.4. Set the value of `n_init` explicitly to suppress the warning\n",
            "  super()._check_params_vs_input(X, default_n_init=10)\n"
          ]
        }
      ]
    },
    {
      "cell_type": "markdown",
      "source": [
        "##Resultados por K-means\n",
        "\n",
        "En base a los resultados obtenidos cabe mencionar que el resultado del modelo depende de la cantidad de clusters que se quieran conformar.\n",
        "Así, al proponer un modelo con 3 clusters el valor del accuracy es de 0.45; mientras que en el modelo con 8 clusters el score se incrementa a 0.82.\n",
        "Cabe mencionar que el tiempo de ejecución para esta cantidad de datos es cercano a los 2 minutos."
      ],
      "metadata": {
        "id": "qKC5W5c_GXnl"
      }
    },
    {
      "cell_type": "code",
      "source": [
        "##Clasificación por MiniBatch"
      ],
      "metadata": {
        "id": "P0VekGpZJdM7"
      },
      "execution_count": null,
      "outputs": []
    },
    {
      "cell_type": "code",
      "source": [
        "# prompt: Mediante el marco de datos tabla_violencias: minibatch\n",
        "\n",
        "from sklearn.cluster import MiniBatchKMeans\n",
        "tabla_violencias_encoded = tabla_violencias.apply(lambda x: x == 'Si')\n",
        "\n",
        "clustering = MiniBatchKMeans(n_clusters=5, random_state=0).fit(tabla_violencias_encoded) # Perform minibatch k-means clustering with 5 clusters\n",
        "score = silhouette_score(tabla_violencias_encoded, clustering.labels_)\n",
        "print(score)"
      ],
      "metadata": {
        "id": "7Kws7I7qItnc"
      },
      "execution_count": null,
      "outputs": []
    },
    {
      "cell_type": "markdown",
      "source": [
        "##Resultado por MiniBatch\n",
        "En base a los resultados obtenidos se sostiene que el resultado del modelo depende de la cantidad de clusters que se quieran conformar. En el caso de la construcción de un modelo de Minibatch con 5 clusters el resultado del score es de 0.51, lo que no representa un buen resultado para el modelo.\n",
        "\n",
        "Cabe mencionar que el tiempo de ejecución para esta cantidad de datos también es cercano a los 2 minutos."
      ],
      "metadata": {
        "id": "3s3yV9W8JiwV"
      }
    },
    {
      "cell_type": "markdown",
      "source": [
        "##Otra opción de aprendizaje no supervisado\n",
        "Se intentó usar el modelo de Affinity Propagation pero no se pudo realizar debido a la insuficiencia de memoria RAM"
      ],
      "metadata": {
        "id": "LueJunHeF-2n"
      }
    }
  ]
}