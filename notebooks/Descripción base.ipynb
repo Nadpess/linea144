{
 "cells": [
  {
   "cell_type": "markdown",
   "id": "ba6fa98b",
   "metadata": {},
   "source": [
    "# Descripción de la base completa\n",
    "\n",
    "**En este cuaderno se trabaja con la descripción de las variables que componen el dataframe**"
   ]
  },
  {
   "cell_type": "code",
   "execution_count": 1,
   "id": "7113a849",
   "metadata": {},
   "outputs": [],
   "source": [
    "import numpy as np\n",
    "import pandas as pd"
   ]
  },
  {
   "cell_type": "code",
   "execution_count": 2,
   "id": "8bff610e",
   "metadata": {},
   "outputs": [],
   "source": [
    "df = pd.read_csv(r'C:\\Users\\nadpe\\Downloads\\df_completo.csv')"
   ]
  },
  {
   "cell_type": "code",
   "execution_count": 3,
   "id": "5ad1fdb9",
   "metadata": {},
   "outputs": [
    {
     "data": {
      "text/html": [
       "<div>\n",
       "<style scoped>\n",
       "    .dataframe tbody tr th:only-of-type {\n",
       "        vertical-align: middle;\n",
       "    }\n",
       "\n",
       "    .dataframe tbody tr th {\n",
       "        vertical-align: top;\n",
       "    }\n",
       "\n",
       "    .dataframe thead th {\n",
       "        text-align: right;\n",
       "    }\n",
       "</style>\n",
       "<table border=\"1\" class=\"dataframe\">\n",
       "  <thead>\n",
       "    <tr style=\"text-align: right;\">\n",
       "      <th></th>\n",
       "      <th>Unnamed: 0</th>\n",
       "      <th>fecha</th>\n",
       "      <th>prov_residencia_persona_en_situacion_violencia</th>\n",
       "      <th>genero_persona_en_situacion_de_violencia</th>\n",
       "      <th>edad_persona_en_situacion_de_violencia</th>\n",
       "      <th>pais_nacimiento_persona_en_situacion_de_violencia</th>\n",
       "      <th>tipo_de_violencia_fisica</th>\n",
       "      <th>tipo_de_violencia_psicologica</th>\n",
       "      <th>tipo_de_violencia_sexual</th>\n",
       "      <th>tipo_de_violencia_economica_y_patrimonial</th>\n",
       "      <th>tipo_de_violencia_simbolica</th>\n",
       "      <th>tipo_de_violencia_domestica</th>\n",
       "      <th>modalidad_de_violencia_institucional</th>\n",
       "      <th>modalidad_de_violencia_laboral</th>\n",
       "      <th>modalidad_violencia_contra_libertad_reproductiva</th>\n",
       "      <th>modalidad_de_violencia_obstetrica</th>\n",
       "      <th>modalidad_de_violencia_mediatica</th>\n",
       "      <th>modalidad_de_violencia_otras</th>\n",
       "      <th>vinculo_con_la_persona_agresora</th>\n",
       "      <th>genero_de_la_persona_agresora</th>\n",
       "    </tr>\n",
       "  </thead>\n",
       "  <tbody>\n",
       "    <tr>\n",
       "      <th>0</th>\n",
       "      <td>0</td>\n",
       "      <td>2020-01-01</td>\n",
       "      <td>Tucumán</td>\n",
       "      <td>Mujer</td>\n",
       "      <td>NaN</td>\n",
       "      <td>NaN</td>\n",
       "      <td>Si</td>\n",
       "      <td>Si</td>\n",
       "      <td>No</td>\n",
       "      <td>No</td>\n",
       "      <td>No</td>\n",
       "      <td>Si</td>\n",
       "      <td>No</td>\n",
       "      <td>No</td>\n",
       "      <td>No</td>\n",
       "      <td>No</td>\n",
       "      <td>No</td>\n",
       "      <td>No</td>\n",
       "      <td>Pareja</td>\n",
       "      <td>Varon</td>\n",
       "    </tr>\n",
       "    <tr>\n",
       "      <th>1</th>\n",
       "      <td>1</td>\n",
       "      <td>2020-01-01</td>\n",
       "      <td>Buenos Aires</td>\n",
       "      <td>Mujer</td>\n",
       "      <td>39.0</td>\n",
       "      <td>NaN</td>\n",
       "      <td>Si</td>\n",
       "      <td>Si</td>\n",
       "      <td>No</td>\n",
       "      <td>No</td>\n",
       "      <td>No</td>\n",
       "      <td>Si</td>\n",
       "      <td>No</td>\n",
       "      <td>No</td>\n",
       "      <td>No</td>\n",
       "      <td>No</td>\n",
       "      <td>No</td>\n",
       "      <td>No</td>\n",
       "      <td>Ex pareja</td>\n",
       "      <td>Varon</td>\n",
       "    </tr>\n",
       "    <tr>\n",
       "      <th>2</th>\n",
       "      <td>2</td>\n",
       "      <td>2020-01-01</td>\n",
       "      <td>Buenos Aires</td>\n",
       "      <td>Mujer</td>\n",
       "      <td>22.0</td>\n",
       "      <td>Argentina</td>\n",
       "      <td>Si</td>\n",
       "      <td>Si</td>\n",
       "      <td>No</td>\n",
       "      <td>No</td>\n",
       "      <td>No</td>\n",
       "      <td>Si</td>\n",
       "      <td>No</td>\n",
       "      <td>No</td>\n",
       "      <td>No</td>\n",
       "      <td>No</td>\n",
       "      <td>No</td>\n",
       "      <td>No</td>\n",
       "      <td>Ex pareja</td>\n",
       "      <td>Varon</td>\n",
       "    </tr>\n",
       "    <tr>\n",
       "      <th>3</th>\n",
       "      <td>3</td>\n",
       "      <td>2020-01-01</td>\n",
       "      <td>Buenos Aires</td>\n",
       "      <td>Mujer</td>\n",
       "      <td>53.0</td>\n",
       "      <td>NaN</td>\n",
       "      <td>No</td>\n",
       "      <td>Si</td>\n",
       "      <td>No</td>\n",
       "      <td>No</td>\n",
       "      <td>No</td>\n",
       "      <td>Si</td>\n",
       "      <td>No</td>\n",
       "      <td>No</td>\n",
       "      <td>No</td>\n",
       "      <td>No</td>\n",
       "      <td>No</td>\n",
       "      <td>No</td>\n",
       "      <td>Pareja</td>\n",
       "      <td>Varon</td>\n",
       "    </tr>\n",
       "    <tr>\n",
       "      <th>4</th>\n",
       "      <td>4</td>\n",
       "      <td>2020-01-01</td>\n",
       "      <td>Buenos Aires</td>\n",
       "      <td>Mujer</td>\n",
       "      <td>38.0</td>\n",
       "      <td>Argentina</td>\n",
       "      <td>Si</td>\n",
       "      <td>Si</td>\n",
       "      <td>No</td>\n",
       "      <td>No</td>\n",
       "      <td>No</td>\n",
       "      <td>Si</td>\n",
       "      <td>No</td>\n",
       "      <td>No</td>\n",
       "      <td>No</td>\n",
       "      <td>No</td>\n",
       "      <td>No</td>\n",
       "      <td>No</td>\n",
       "      <td>Pareja</td>\n",
       "      <td>Varon</td>\n",
       "    </tr>\n",
       "    <tr>\n",
       "      <th>5</th>\n",
       "      <td>5</td>\n",
       "      <td>2020-01-01</td>\n",
       "      <td>Buenos Aires</td>\n",
       "      <td>Mujer</td>\n",
       "      <td>23.0</td>\n",
       "      <td>Argentina</td>\n",
       "      <td>Si</td>\n",
       "      <td>Si</td>\n",
       "      <td>No</td>\n",
       "      <td>Si</td>\n",
       "      <td>No</td>\n",
       "      <td>Si</td>\n",
       "      <td>No</td>\n",
       "      <td>No</td>\n",
       "      <td>No</td>\n",
       "      <td>No</td>\n",
       "      <td>No</td>\n",
       "      <td>No</td>\n",
       "      <td>Ex pareja</td>\n",
       "      <td>Varon</td>\n",
       "    </tr>\n",
       "    <tr>\n",
       "      <th>6</th>\n",
       "      <td>6</td>\n",
       "      <td>2020-01-01</td>\n",
       "      <td>Santiago Del Estero</td>\n",
       "      <td>Mujer</td>\n",
       "      <td>25.0</td>\n",
       "      <td>Paraguaya</td>\n",
       "      <td>Si</td>\n",
       "      <td>Si</td>\n",
       "      <td>No</td>\n",
       "      <td>Si</td>\n",
       "      <td>No</td>\n",
       "      <td>Si</td>\n",
       "      <td>No</td>\n",
       "      <td>No</td>\n",
       "      <td>No</td>\n",
       "      <td>No</td>\n",
       "      <td>No</td>\n",
       "      <td>No</td>\n",
       "      <td>Pareja</td>\n",
       "      <td>Varon</td>\n",
       "    </tr>\n",
       "    <tr>\n",
       "      <th>7</th>\n",
       "      <td>7</td>\n",
       "      <td>2020-01-01</td>\n",
       "      <td>Santa Fe</td>\n",
       "      <td>Mujer</td>\n",
       "      <td>24.0</td>\n",
       "      <td>Argentina</td>\n",
       "      <td>Si</td>\n",
       "      <td>Si</td>\n",
       "      <td>No</td>\n",
       "      <td>No</td>\n",
       "      <td>No</td>\n",
       "      <td>Si</td>\n",
       "      <td>No</td>\n",
       "      <td>No</td>\n",
       "      <td>No</td>\n",
       "      <td>No</td>\n",
       "      <td>No</td>\n",
       "      <td>No</td>\n",
       "      <td>Ex pareja</td>\n",
       "      <td>Varon</td>\n",
       "    </tr>\n",
       "    <tr>\n",
       "      <th>8</th>\n",
       "      <td>8</td>\n",
       "      <td>2020-01-01</td>\n",
       "      <td>Santa Fe</td>\n",
       "      <td>Mujer</td>\n",
       "      <td>NaN</td>\n",
       "      <td>Argentina</td>\n",
       "      <td>Si</td>\n",
       "      <td>Si</td>\n",
       "      <td>No</td>\n",
       "      <td>Si</td>\n",
       "      <td>No</td>\n",
       "      <td>Si</td>\n",
       "      <td>No</td>\n",
       "      <td>No</td>\n",
       "      <td>No</td>\n",
       "      <td>No</td>\n",
       "      <td>No</td>\n",
       "      <td>No</td>\n",
       "      <td>Pareja</td>\n",
       "      <td>Varon</td>\n",
       "    </tr>\n",
       "    <tr>\n",
       "      <th>9</th>\n",
       "      <td>9</td>\n",
       "      <td>2020-01-01</td>\n",
       "      <td>San Juan</td>\n",
       "      <td>Mujer</td>\n",
       "      <td>21.0</td>\n",
       "      <td>Argentina</td>\n",
       "      <td>Si</td>\n",
       "      <td>Si</td>\n",
       "      <td>No</td>\n",
       "      <td>Si</td>\n",
       "      <td>No</td>\n",
       "      <td>Si</td>\n",
       "      <td>No</td>\n",
       "      <td>No</td>\n",
       "      <td>No</td>\n",
       "      <td>No</td>\n",
       "      <td>No</td>\n",
       "      <td>No</td>\n",
       "      <td>Pareja</td>\n",
       "      <td>Varon</td>\n",
       "    </tr>\n",
       "  </tbody>\n",
       "</table>\n",
       "</div>"
      ],
      "text/plain": [
       "   Unnamed: 0       fecha prov_residencia_persona_en_situacion_violencia  \\\n",
       "0           0  2020-01-01                                        Tucumán   \n",
       "1           1  2020-01-01                                   Buenos Aires   \n",
       "2           2  2020-01-01                                   Buenos Aires   \n",
       "3           3  2020-01-01                                   Buenos Aires   \n",
       "4           4  2020-01-01                                   Buenos Aires   \n",
       "5           5  2020-01-01                                   Buenos Aires   \n",
       "6           6  2020-01-01                            Santiago Del Estero   \n",
       "7           7  2020-01-01                                       Santa Fe   \n",
       "8           8  2020-01-01                                       Santa Fe   \n",
       "9           9  2020-01-01                                       San Juan   \n",
       "\n",
       "  genero_persona_en_situacion_de_violencia  \\\n",
       "0                                    Mujer   \n",
       "1                                    Mujer   \n",
       "2                                    Mujer   \n",
       "3                                    Mujer   \n",
       "4                                    Mujer   \n",
       "5                                    Mujer   \n",
       "6                                    Mujer   \n",
       "7                                    Mujer   \n",
       "8                                    Mujer   \n",
       "9                                    Mujer   \n",
       "\n",
       "   edad_persona_en_situacion_de_violencia  \\\n",
       "0                                     NaN   \n",
       "1                                    39.0   \n",
       "2                                    22.0   \n",
       "3                                    53.0   \n",
       "4                                    38.0   \n",
       "5                                    23.0   \n",
       "6                                    25.0   \n",
       "7                                    24.0   \n",
       "8                                     NaN   \n",
       "9                                    21.0   \n",
       "\n",
       "  pais_nacimiento_persona_en_situacion_de_violencia tipo_de_violencia_fisica  \\\n",
       "0                                               NaN                       Si   \n",
       "1                                               NaN                       Si   \n",
       "2                                         Argentina                       Si   \n",
       "3                                               NaN                       No   \n",
       "4                                         Argentina                       Si   \n",
       "5                                         Argentina                       Si   \n",
       "6                                         Paraguaya                       Si   \n",
       "7                                         Argentina                       Si   \n",
       "8                                         Argentina                       Si   \n",
       "9                                         Argentina                       Si   \n",
       "\n",
       "  tipo_de_violencia_psicologica tipo_de_violencia_sexual  \\\n",
       "0                            Si                       No   \n",
       "1                            Si                       No   \n",
       "2                            Si                       No   \n",
       "3                            Si                       No   \n",
       "4                            Si                       No   \n",
       "5                            Si                       No   \n",
       "6                            Si                       No   \n",
       "7                            Si                       No   \n",
       "8                            Si                       No   \n",
       "9                            Si                       No   \n",
       "\n",
       "  tipo_de_violencia_economica_y_patrimonial tipo_de_violencia_simbolica  \\\n",
       "0                                        No                          No   \n",
       "1                                        No                          No   \n",
       "2                                        No                          No   \n",
       "3                                        No                          No   \n",
       "4                                        No                          No   \n",
       "5                                        Si                          No   \n",
       "6                                        Si                          No   \n",
       "7                                        No                          No   \n",
       "8                                        Si                          No   \n",
       "9                                        Si                          No   \n",
       "\n",
       "  tipo_de_violencia_domestica modalidad_de_violencia_institucional  \\\n",
       "0                          Si                                   No   \n",
       "1                          Si                                   No   \n",
       "2                          Si                                   No   \n",
       "3                          Si                                   No   \n",
       "4                          Si                                   No   \n",
       "5                          Si                                   No   \n",
       "6                          Si                                   No   \n",
       "7                          Si                                   No   \n",
       "8                          Si                                   No   \n",
       "9                          Si                                   No   \n",
       "\n",
       "  modalidad_de_violencia_laboral  \\\n",
       "0                             No   \n",
       "1                             No   \n",
       "2                             No   \n",
       "3                             No   \n",
       "4                             No   \n",
       "5                             No   \n",
       "6                             No   \n",
       "7                             No   \n",
       "8                             No   \n",
       "9                             No   \n",
       "\n",
       "  modalidad_violencia_contra_libertad_reproductiva  \\\n",
       "0                                               No   \n",
       "1                                               No   \n",
       "2                                               No   \n",
       "3                                               No   \n",
       "4                                               No   \n",
       "5                                               No   \n",
       "6                                               No   \n",
       "7                                               No   \n",
       "8                                               No   \n",
       "9                                               No   \n",
       "\n",
       "  modalidad_de_violencia_obstetrica modalidad_de_violencia_mediatica  \\\n",
       "0                                No                               No   \n",
       "1                                No                               No   \n",
       "2                                No                               No   \n",
       "3                                No                               No   \n",
       "4                                No                               No   \n",
       "5                                No                               No   \n",
       "6                                No                               No   \n",
       "7                                No                               No   \n",
       "8                                No                               No   \n",
       "9                                No                               No   \n",
       "\n",
       "  modalidad_de_violencia_otras vinculo_con_la_persona_agresora  \\\n",
       "0                           No                          Pareja   \n",
       "1                           No                       Ex pareja   \n",
       "2                           No                       Ex pareja   \n",
       "3                           No                          Pareja   \n",
       "4                           No                          Pareja   \n",
       "5                           No                       Ex pareja   \n",
       "6                           No                          Pareja   \n",
       "7                           No                       Ex pareja   \n",
       "8                           No                          Pareja   \n",
       "9                           No                          Pareja   \n",
       "\n",
       "  genero_de_la_persona_agresora  \n",
       "0                         Varon  \n",
       "1                         Varon  \n",
       "2                         Varon  \n",
       "3                         Varon  \n",
       "4                         Varon  \n",
       "5                         Varon  \n",
       "6                         Varon  \n",
       "7                         Varon  \n",
       "8                         Varon  \n",
       "9                         Varon  "
      ]
     },
     "execution_count": 3,
     "metadata": {},
     "output_type": "execute_result"
    }
   ],
   "source": [
    "df.head(10)"
   ]
  },
  {
   "cell_type": "code",
   "execution_count": 4,
   "id": "04aa559b",
   "metadata": {},
   "outputs": [
    {
     "name": "stdout",
     "output_type": "stream",
     "text": [
      "<class 'pandas.core.frame.DataFrame'>\n",
      "RangeIndex: 89541 entries, 0 to 89540\n",
      "Data columns (total 20 columns):\n",
      " #   Column                                             Non-Null Count  Dtype  \n",
      "---  ------                                             --------------  -----  \n",
      " 0   Unnamed: 0                                         89541 non-null  int64  \n",
      " 1   fecha                                              89541 non-null  object \n",
      " 2   prov_residencia_persona_en_situacion_violencia     88377 non-null  object \n",
      " 3   genero_persona_en_situacion_de_violencia           87637 non-null  object \n",
      " 4   edad_persona_en_situacion_de_violencia             72263 non-null  float64\n",
      " 5   pais_nacimiento_persona_en_situacion_de_violencia  59260 non-null  object \n",
      " 6   tipo_de_violencia_fisica                           89541 non-null  object \n",
      " 7   tipo_de_violencia_psicologica                      89541 non-null  object \n",
      " 8   tipo_de_violencia_sexual                           89541 non-null  object \n",
      " 9   tipo_de_violencia_economica_y_patrimonial          89541 non-null  object \n",
      " 10  tipo_de_violencia_simbolica                        89541 non-null  object \n",
      " 11  tipo_de_violencia_domestica                        89541 non-null  object \n",
      " 12  modalidad_de_violencia_institucional               89541 non-null  object \n",
      " 13  modalidad_de_violencia_laboral                     89541 non-null  object \n",
      " 14  modalidad_violencia_contra_libertad_reproductiva   89541 non-null  object \n",
      " 15  modalidad_de_violencia_obstetrica                  89541 non-null  object \n",
      " 16  modalidad_de_violencia_mediatica                   89541 non-null  object \n",
      " 17  modalidad_de_violencia_otras                       89541 non-null  object \n",
      " 18  vinculo_con_la_persona_agresora                    86146 non-null  object \n",
      " 19  genero_de_la_persona_agresora                      80328 non-null  object \n",
      "dtypes: float64(1), int64(1), object(18)\n",
      "memory usage: 13.7+ MB\n"
     ]
    }
   ],
   "source": [
    "df.shape\n",
    "df.info()"
   ]
  },
  {
   "cell_type": "markdown",
   "id": "8aa52d8a",
   "metadata": {},
   "source": [
    "Aquí se observa que la base cuenta con 89540 observaciones y 20 variables. Algunas de ellas poseen menos cantidad de datos no nulos. (género_persona_en_situacion_de_violencia, edad_persona_en_situacio_de_violencia, prov_residencia_persona_en_situacion_violencia pais_nacimiento_persona_en_situacion_de_violencia, vinculo_con_la_persona_agresora y genero_de_la_persona_agresora) "
   ]
  },
  {
   "cell_type": "markdown",
   "id": "1754ae9b",
   "metadata": {},
   "source": [
    "## Se describen las variables"
   ]
  },
  {
   "cell_type": "markdown",
   "id": "42b4b870",
   "metadata": {},
   "source": [
    "### Variable provincia de residencia"
   ]
  },
  {
   "cell_type": "code",
   "execution_count": 5,
   "id": "82d072bf",
   "metadata": {
    "scrolled": true
   },
   "outputs": [
    {
     "name": "stdout",
     "output_type": "stream",
     "text": [
      "prov_residencia_persona_en_situacion_violencia\n",
      "Buenos Aires                                               1\n",
      "Catamarca                                                  1\n",
      "Chaco                                                      1\n",
      "Chubut                                                     1\n",
      "Ciudad Autónoma de Buenos Aires                            1\n",
      "Cordoba                                                    1\n",
      "Corrientes                                                 1\n",
      "Córdoba                                                    1\n",
      "Entre Ríos                                                 1\n",
      "Formosa                                                    1\n",
      "Jujuy                                                      1\n",
      "La Pampa                                                   1\n",
      "La Rioja                                                   1\n",
      "Mendoza                                                    1\n",
      "Misiones                                                   1\n",
      "Neuquén                                                    1\n",
      "Río Negro                                                  1\n",
      "Salta                                                      1\n",
      "San Juan                                                   1\n",
      "San Luis                                                   1\n",
      "Santa Cruz                                                 1\n",
      "Santa Fe                                                   1\n",
      "Santiago Del Estero                                        1\n",
      "Santiago del Estero                                        1\n",
      "Sin Datos                                                  1\n",
      "Sin datos                                                  1\n",
      "Tierra del Fuego  Antártida e Islas del Atlántico Sur\"\"    1\n",
      "Tierra del Fuego, Antártida e Islas del Atlántico Sur      1\n",
      "Tucumán                                                    1\n",
      "Name: prov_residencia_persona_en_situacion_violencia, dtype: int64\n"
     ]
    }
   ],
   "source": [
    "#Se chequean la cantidad de ocurrencias de cada uno de los elementos de la variable prov_residencia_persona_en_situacion_violencia\n",
    "provincias = df.groupby('prov_residencia_persona_en_situacion_violencia')['prov_residencia_persona_en_situacion_violencia'].nunique()\n",
    "print(provincias)"
   ]
  },
  {
   "cell_type": "code",
   "execution_count": 6,
   "id": "93cd55c1",
   "metadata": {},
   "outputs": [],
   "source": [
    "#Debieron modificarse unos valores que se duplicaban\n",
    "\n",
    "df['prov_residencia_persona_en_situacion_violencia'] = df['prov_residencia_persona_en_situacion_violencia'].replace('Sin Datos','Sin datos')"
   ]
  },
  {
   "cell_type": "code",
   "execution_count": 7,
   "id": "c7adb6ae",
   "metadata": {},
   "outputs": [],
   "source": [
    "df['prov_residencia_persona_en_situacion_violencia'] = df['prov_residencia_persona_en_situacion_violencia'].replace('Santiago Del Estero','Santiago del Estero')"
   ]
  },
  {
   "cell_type": "code",
   "execution_count": 8,
   "id": "d24b58df",
   "metadata": {},
   "outputs": [],
   "source": [
    "df['prov_residencia_persona_en_situacion_violencia'] = df['prov_residencia_persona_en_situacion_violencia'].replace('Tierra del Fuego  Antártida e Islas del Atlántico Sur\"\"','Tierra del Fuego, Antártida e Islas del Atlántico Sur')"
   ]
  },
  {
   "cell_type": "code",
   "execution_count": 9,
   "id": "e0126f99",
   "metadata": {
    "scrolled": true
   },
   "outputs": [
    {
     "data": {
      "text/plain": [
       "prov_residencia_persona_en_situacion_violencia\n",
       "Buenos Aires                                             48565\n",
       "Catamarca                                                  298\n",
       "Chaco                                                      801\n",
       "Chubut                                                     280\n",
       "Ciudad Autónoma de Buenos Aires                          17397\n",
       "Cordoba                                                    660\n",
       "Corrientes                                                 512\n",
       "Córdoba                                                   1950\n",
       "Entre Ríos                                                 631\n",
       "Formosa                                                    333\n",
       "Jujuy                                                     1252\n",
       "La Pampa                                                    92\n",
       "La Rioja                                                   291\n",
       "Mendoza                                                   3132\n",
       "Misiones                                                   545\n",
       "Neuquén                                                    613\n",
       "Río Negro                                                  454\n",
       "Salta                                                     1232\n",
       "San Juan                                                   654\n",
       "San Luis                                                   733\n",
       "Santa Cruz                                                 140\n",
       "Santa Fe                                                  3785\n",
       "Santiago del Estero                                        562\n",
       "Sin datos                                                  148\n",
       "Tierra del Fuego, Antártida e Islas del Atlántico Sur       93\n",
       "Tucumán                                                   3224\n",
       "dtype: int64"
      ]
     },
     "execution_count": 9,
     "metadata": {},
     "output_type": "execute_result"
    }
   ],
   "source": [
    "cantidad_por_provincia = df.groupby(['prov_residencia_persona_en_situacion_violencia']).size()\n",
    "cantidad_por_provincia"
   ]
  },
  {
   "cell_type": "markdown",
   "id": "67ac4ea9",
   "metadata": {},
   "source": [
    "En esta variable se observa la distribución real de los casos por provincia, en futuros análisis se realizará el análisis proporcional de la distribución de frecuencias. La mayor cantidad de casos se encuentra en la provincia de Buenos Aires y la menor en Jujuy."
   ]
  },
  {
   "cell_type": "markdown",
   "id": "c769e290",
   "metadata": {},
   "source": [
    "### Variable edades\n"
   ]
  },
  {
   "cell_type": "code",
   "execution_count": 10,
   "id": "aae69615",
   "metadata": {},
   "outputs": [
    {
     "data": {
      "text/plain": [
       "count    72263.000000\n",
       "mean        35.687945\n",
       "std         12.596980\n",
       "min          1.000000\n",
       "25%         27.000000\n",
       "50%         34.000000\n",
       "75%         42.000000\n",
       "max        127.000000\n",
       "Name: edad_persona_en_situacion_de_violencia, dtype: float64"
      ]
     },
     "execution_count": 10,
     "metadata": {},
     "output_type": "execute_result"
    }
   ],
   "source": [
    "desc_edades = df['edad_persona_en_situacion_de_violencia'].describe()\n",
    "desc_edades\n",
    "#Se observan datos atípicos tanto en los valores máximos como en los mismos.\n",
    "#Se decide la búsqueda y la eliminación de aquellas observación con valor de 127 por tratarse de un valor atípico que\n",
    "#puede estar haciendo referencia a otro error."
   ]
  },
  {
   "cell_type": "code",
   "execution_count": 11,
   "id": "c579b20f",
   "metadata": {},
   "outputs": [
    {
     "data": {
      "text/html": [
       "<div>\n",
       "<style scoped>\n",
       "    .dataframe tbody tr th:only-of-type {\n",
       "        vertical-align: middle;\n",
       "    }\n",
       "\n",
       "    .dataframe tbody tr th {\n",
       "        vertical-align: top;\n",
       "    }\n",
       "\n",
       "    .dataframe thead th {\n",
       "        text-align: right;\n",
       "    }\n",
       "</style>\n",
       "<table border=\"1\" class=\"dataframe\">\n",
       "  <thead>\n",
       "    <tr style=\"text-align: right;\">\n",
       "      <th></th>\n",
       "      <th>Unnamed: 0</th>\n",
       "      <th>fecha</th>\n",
       "      <th>prov_residencia_persona_en_situacion_violencia</th>\n",
       "      <th>genero_persona_en_situacion_de_violencia</th>\n",
       "      <th>edad_persona_en_situacion_de_violencia</th>\n",
       "      <th>pais_nacimiento_persona_en_situacion_de_violencia</th>\n",
       "      <th>tipo_de_violencia_fisica</th>\n",
       "      <th>tipo_de_violencia_psicologica</th>\n",
       "      <th>tipo_de_violencia_sexual</th>\n",
       "      <th>tipo_de_violencia_economica_y_patrimonial</th>\n",
       "      <th>tipo_de_violencia_simbolica</th>\n",
       "      <th>tipo_de_violencia_domestica</th>\n",
       "      <th>modalidad_de_violencia_institucional</th>\n",
       "      <th>modalidad_de_violencia_laboral</th>\n",
       "      <th>modalidad_violencia_contra_libertad_reproductiva</th>\n",
       "      <th>modalidad_de_violencia_obstetrica</th>\n",
       "      <th>modalidad_de_violencia_mediatica</th>\n",
       "      <th>modalidad_de_violencia_otras</th>\n",
       "      <th>vinculo_con_la_persona_agresora</th>\n",
       "      <th>genero_de_la_persona_agresora</th>\n",
       "    </tr>\n",
       "  </thead>\n",
       "  <tbody>\n",
       "    <tr>\n",
       "      <th>47135</th>\n",
       "      <td>17429</td>\n",
       "      <td>2021-09-10</td>\n",
       "      <td>Ciudad Autónoma de Buenos Aires</td>\n",
       "      <td>NaN</td>\n",
       "      <td>127.0</td>\n",
       "      <td>Venezolana</td>\n",
       "      <td>No</td>\n",
       "      <td>No</td>\n",
       "      <td>Si</td>\n",
       "      <td>No</td>\n",
       "      <td>No</td>\n",
       "      <td>No</td>\n",
       "      <td>No</td>\n",
       "      <td>No</td>\n",
       "      <td>No</td>\n",
       "      <td>No</td>\n",
       "      <td>No</td>\n",
       "      <td>Si</td>\n",
       "      <td>Padre o tutor</td>\n",
       "      <td>NaN</td>\n",
       "    </tr>\n",
       "    <tr>\n",
       "      <th>58006</th>\n",
       "      <td>2999</td>\n",
       "      <td>2022-02-14</td>\n",
       "      <td>Ciudad Autónoma de Buenos Aires</td>\n",
       "      <td>Mujer</td>\n",
       "      <td>103.0</td>\n",
       "      <td>NaN</td>\n",
       "      <td>Si</td>\n",
       "      <td>No</td>\n",
       "      <td>No</td>\n",
       "      <td>No</td>\n",
       "      <td>No</td>\n",
       "      <td>Si</td>\n",
       "      <td>No</td>\n",
       "      <td>No</td>\n",
       "      <td>No</td>\n",
       "      <td>No</td>\n",
       "      <td>No</td>\n",
       "      <td>No</td>\n",
       "      <td>Otro familiar</td>\n",
       "      <td>Varon</td>\n",
       "    </tr>\n",
       "  </tbody>\n",
       "</table>\n",
       "</div>"
      ],
      "text/plain": [
       "       Unnamed: 0       fecha prov_residencia_persona_en_situacion_violencia  \\\n",
       "47135       17429  2021-09-10                Ciudad Autónoma de Buenos Aires   \n",
       "58006        2999  2022-02-14                Ciudad Autónoma de Buenos Aires   \n",
       "\n",
       "      genero_persona_en_situacion_de_violencia  \\\n",
       "47135                                      NaN   \n",
       "58006                                    Mujer   \n",
       "\n",
       "       edad_persona_en_situacion_de_violencia  \\\n",
       "47135                                   127.0   \n",
       "58006                                   103.0   \n",
       "\n",
       "      pais_nacimiento_persona_en_situacion_de_violencia  \\\n",
       "47135                                        Venezolana   \n",
       "58006                                               NaN   \n",
       "\n",
       "      tipo_de_violencia_fisica tipo_de_violencia_psicologica  \\\n",
       "47135                       No                            No   \n",
       "58006                       Si                            No   \n",
       "\n",
       "      tipo_de_violencia_sexual tipo_de_violencia_economica_y_patrimonial  \\\n",
       "47135                       Si                                        No   \n",
       "58006                       No                                        No   \n",
       "\n",
       "      tipo_de_violencia_simbolica tipo_de_violencia_domestica  \\\n",
       "47135                          No                          No   \n",
       "58006                          No                          Si   \n",
       "\n",
       "      modalidad_de_violencia_institucional modalidad_de_violencia_laboral  \\\n",
       "47135                                   No                             No   \n",
       "58006                                   No                             No   \n",
       "\n",
       "      modalidad_violencia_contra_libertad_reproductiva  \\\n",
       "47135                                               No   \n",
       "58006                                               No   \n",
       "\n",
       "      modalidad_de_violencia_obstetrica modalidad_de_violencia_mediatica  \\\n",
       "47135                                No                               No   \n",
       "58006                                No                               No   \n",
       "\n",
       "      modalidad_de_violencia_otras vinculo_con_la_persona_agresora  \\\n",
       "47135                           Si                   Padre o tutor   \n",
       "58006                           No                   Otro familiar   \n",
       "\n",
       "      genero_de_la_persona_agresora  \n",
       "47135                           NaN  \n",
       "58006                         Varon  "
      ]
     },
     "execution_count": 11,
     "metadata": {},
     "output_type": "execute_result"
    }
   ],
   "source": [
    "mayores = df[df['edad_persona_en_situacion_de_violencia'] >100]\n",
    "mayores"
   ]
  },
  {
   "cell_type": "code",
   "execution_count": 12,
   "id": "26df0b5f",
   "metadata": {},
   "outputs": [],
   "source": [
    "df = df[df['edad_persona_en_situacion_de_violencia'] != 127]"
   ]
  },
  {
   "cell_type": "code",
   "execution_count": 13,
   "id": "6a65f91e",
   "metadata": {},
   "outputs": [
    {
     "data": {
      "text/plain": [
       "count    72262.000000\n",
       "mean        35.686682\n",
       "std         12.592487\n",
       "min          1.000000\n",
       "25%         27.000000\n",
       "50%         34.000000\n",
       "75%         42.000000\n",
       "max        103.000000\n",
       "Name: edad_persona_en_situacion_de_violencia, dtype: float64"
      ]
     },
     "execution_count": 13,
     "metadata": {},
     "output_type": "execute_result"
    }
   ],
   "source": [
    "df['edad_persona_en_situacion_de_violencia'].describe()"
   ]
  },
  {
   "cell_type": "markdown",
   "id": "6074826f",
   "metadata": {},
   "source": [
    "En esta descripción se observa que la totalidad de las filas del data frame que tienen datos son 72262, es decir que hay 17189 casos en los que no se registra la edad de las personas.\n",
    "La media de la edad es de 35 años, con una desviación estandar de 12. La mediana es 34 años, con lo que puede pensarse que el conjunto de datos tiende a la simetría.\n",
    "La edad mínima es de 1 año y la máxima de 103.\n"
   ]
  },
  {
   "cell_type": "markdown",
   "id": "b12b8624",
   "metadata": {},
   "source": [
    "### Descripción del género de la persona en situación de violencia"
   ]
  },
  {
   "cell_type": "code",
   "execution_count": 14,
   "id": "a9b64834",
   "metadata": {},
   "outputs": [
    {
     "data": {
      "text/plain": [
       "genero_persona_en_situacion_de_violencia\n",
       "Intersexual        4\n",
       "Mujer          86884\n",
       "Mujer Trans      141\n",
       "No Binarie         3\n",
       "Otro              67\n",
       "Queer              1\n",
       "Transgenero      128\n",
       "Transgénero       23\n",
       "Travesti          11\n",
       "Varon            349\n",
       "Varon Trans       12\n",
       "Varon trans        1\n",
       "Varón Trans       13\n",
       "dtype: int64"
      ]
     },
     "execution_count": 14,
     "metadata": {},
     "output_type": "execute_result"
    }
   ],
   "source": [
    "desc_gen1 = df.groupby(df['genero_persona_en_situacion_de_violencia']).size()\n",
    "desc_gen1"
   ]
  },
  {
   "cell_type": "code",
   "execution_count": 15,
   "id": "6c1711f7",
   "metadata": {},
   "outputs": [],
   "source": [
    "#Debió homogeneizarse las categorías de la siguiente manera\n",
    "df['genero_persona_en_situacion_de_violencia'] = df['genero_persona_en_situacion_de_violencia'].replace('Transgénero','Transgenero')\n",
    "df['genero_persona_en_situacion_de_violencia'] = df['genero_persona_en_situacion_de_violencia'].replace('Varon trans','Varon Trans')\n",
    "df['genero_persona_en_situacion_de_violencia'] = df['genero_persona_en_situacion_de_violencia'].replace('Varón Trans','Varon Trans')\n"
   ]
  },
  {
   "cell_type": "code",
   "execution_count": 16,
   "id": "d55a6ffb",
   "metadata": {},
   "outputs": [
    {
     "data": {
      "text/plain": [
       "genero_persona_en_situacion_de_violencia\n",
       "Intersexual        4\n",
       "Mujer          86884\n",
       "Mujer Trans      141\n",
       "No Binarie         3\n",
       "Otro              67\n",
       "Queer              1\n",
       "Transgenero      151\n",
       "Travesti          11\n",
       "Varon            349\n",
       "Varon Trans       26\n",
       "dtype: int64"
      ]
     },
     "execution_count": 16,
     "metadata": {},
     "output_type": "execute_result"
    }
   ],
   "source": [
    "desc_gen1 = df.groupby(df['genero_persona_en_situacion_de_violencia']).size()\n",
    "desc_gen1"
   ]
  },
  {
   "cell_type": "markdown",
   "id": "1d30eb28",
   "metadata": {},
   "source": [
    "Como se vio anteriormente esta variable cuenta con 87637 observaciones. De ellas, la mayoría corresponden con el género \"Mujer\" que tiene la mayor cantidad de frecuencia, mientras que el género \"Queer\" es el que menor cantidad de frecuencias tiene (1)."
   ]
  },
  {
   "cell_type": "markdown",
   "id": "2a8be5ae",
   "metadata": {},
   "source": [
    "### Descripción de país de nacimiento"
   ]
  },
  {
   "cell_type": "code",
   "execution_count": 17,
   "id": "1d8ce57e",
   "metadata": {},
   "outputs": [
    {
     "data": {
      "text/plain": [
       "pais_nacimiento_persona_en_situacion_de_violencia\n",
       "ARABE                 1\n",
       "ARMENIA               5\n",
       "Alemana               8\n",
       "Arabe                 2\n",
       "Argentina         52943\n",
       "Armenia              10\n",
       "Australiana           6\n",
       "Belga                 2\n",
       "Boliviana          1290\n",
       "Brasileña           146\n",
       "Canadiense            1\n",
       "Chilena             131\n",
       "Colombiana          237\n",
       "Costarricense         1\n",
       "Cubana                7\n",
       "Dominicana           23\n",
       "Ecuatoriana          12\n",
       "Española             13\n",
       "Estadounidense       13\n",
       "Francesa              1\n",
       "Griega                1\n",
       "Guatemalteca          2\n",
       "Israelí               1\n",
       "Italiana              5\n",
       "Japonesa              2\n",
       "Letona                1\n",
       "Libano                1\n",
       "Lituania              1\n",
       "Mexicana              8\n",
       "Nicaragüense          1\n",
       "Otra                111\n",
       "Otro                 44\n",
       "Palestina             1\n",
       "Panameña              1\n",
       "Paraguaya          2553\n",
       "Peruana             989\n",
       "Rusa                  2\n",
       "Salvadoreña           3\n",
       "Turca                 1\n",
       "Ucraniana             1\n",
       "Uruguaya            201\n",
       "Venezolana          475\n",
       "Vietnamita            1\n",
       "peruana               1\n",
       "dtype: int64"
      ]
     },
     "execution_count": 17,
     "metadata": {},
     "output_type": "execute_result"
    }
   ],
   "source": [
    "desc_nac = df.groupby(df['pais_nacimiento_persona_en_situacion_de_violencia']).size()\n",
    "desc_nac"
   ]
  },
  {
   "cell_type": "code",
   "execution_count": 18,
   "id": "7365a135",
   "metadata": {},
   "outputs": [],
   "source": [
    "#Debió homogeneizarse las categorías de la siguiente manera\n",
    "df['pais_nacimiento_persona_en_situacion_de_violencia'] = df['pais_nacimiento_persona_en_situacion_de_violencia'].replace('peruana','Peruana')\n",
    "df['pais_nacimiento_persona_en_situacion_de_violencia'] = df['pais_nacimiento_persona_en_situacion_de_violencia'].replace('Otro','Otra')\n",
    "df['pais_nacimiento_persona_en_situacion_de_violencia'] = df['pais_nacimiento_persona_en_situacion_de_violencia'].replace('ARABE','Arabe')\n"
   ]
  },
  {
   "cell_type": "code",
   "execution_count": 19,
   "id": "796a4089",
   "metadata": {},
   "outputs": [
    {
     "data": {
      "text/plain": [
       "pais_nacimiento_persona_en_situacion_de_violencia\n",
       "ARMENIA               5\n",
       "Alemana               8\n",
       "Arabe                 3\n",
       "Argentina         52943\n",
       "Armenia              10\n",
       "Australiana           6\n",
       "Belga                 2\n",
       "Boliviana          1290\n",
       "Brasileña           146\n",
       "Canadiense            1\n",
       "Chilena             131\n",
       "Colombiana          237\n",
       "Costarricense         1\n",
       "Cubana                7\n",
       "Dominicana           23\n",
       "Ecuatoriana          12\n",
       "Española             13\n",
       "Estadounidense       13\n",
       "Francesa              1\n",
       "Griega                1\n",
       "Guatemalteca          2\n",
       "Israelí               1\n",
       "Italiana              5\n",
       "Japonesa              2\n",
       "Letona                1\n",
       "Libano                1\n",
       "Lituania              1\n",
       "Mexicana              8\n",
       "Nicaragüense          1\n",
       "Otra                155\n",
       "Palestina             1\n",
       "Panameña              1\n",
       "Paraguaya          2553\n",
       "Peruana             990\n",
       "Rusa                  2\n",
       "Salvadoreña           3\n",
       "Turca                 1\n",
       "Ucraniana             1\n",
       "Uruguaya            201\n",
       "Venezolana          475\n",
       "Vietnamita            1\n",
       "dtype: int64"
      ]
     },
     "execution_count": 19,
     "metadata": {},
     "output_type": "execute_result"
    }
   ],
   "source": [
    "desc_nac1 = df.groupby(df['pais_nacimiento_persona_en_situacion_de_violencia']).size()\n",
    "desc_nac1"
   ]
  },
  {
   "cell_type": "markdown",
   "id": "e8080cc9",
   "metadata": {},
   "source": [
    "Como se vio anteriormente esta variable cuenta con 59260  observaciones. De ellas, la mayoría corresponden con país de nacimiento \"Argentina\" que tiene la mayor cantidad de frecuencia (52943) y se observan diversos países con solo 1 observación."
   ]
  },
  {
   "cell_type": "markdown",
   "id": "11369e16",
   "metadata": {},
   "source": [
    "## Descripción tipo de violencia"
   ]
  },
  {
   "cell_type": "code",
   "execution_count": 25,
   "id": "aa192f42",
   "metadata": {},
   "outputs": [
    {
     "data": {
      "text/plain": [
       "tipo_de_violencia_domestica\n",
       "No     8205\n",
       "Si    81335\n",
       "dtype: int64"
      ]
     },
     "execution_count": 25,
     "metadata": {},
     "output_type": "execute_result"
    }
   ],
   "source": [
    "desc_tv_fisica = df.groupby(df['tipo_de_violencia_fisica']).size()\n",
    "desc_tv_fisica\n"
   ]
  },
  {
   "cell_type": "code",
   "execution_count": 27,
   "id": "a9dccecb",
   "metadata": {},
   "outputs": [
    {
     "data": {
      "text/plain": [
       "tipo_de_violencia_psicologica\n",
       "No     4547\n",
       "Si    84993\n",
       "dtype: int64"
      ]
     },
     "execution_count": 27,
     "metadata": {},
     "output_type": "execute_result"
    }
   ],
   "source": [
    "desc_tv_psicologica = df.groupby(df['tipo_de_violencia_psicologica']).size()\n",
    "desc_tv_psicologica"
   ]
  },
  {
   "cell_type": "code",
   "execution_count": 41,
   "id": "db069d41",
   "metadata": {},
   "outputs": [
    {
     "data": {
      "text/plain": [
       "tipo_de_violencia_sexual\n",
       "No    77302\n",
       "Si    12238\n",
       "dtype: int64"
      ]
     },
     "execution_count": 41,
     "metadata": {},
     "output_type": "execute_result"
    }
   ],
   "source": [
    "desc_tv_sexual = df.groupby(df['tipo_de_violencia_sexual']).size()\n",
    "desc_tv_sexual"
   ]
  },
  {
   "cell_type": "code",
   "execution_count": 37,
   "id": "81b818b6",
   "metadata": {},
   "outputs": [],
   "source": [
    "df['tipo_de_violencia_sexual'] = df['tipo_de_violencia_sexual'].replace('SI','Si')\n"
   ]
  },
  {
   "cell_type": "code",
   "execution_count": 31,
   "id": "8f35c1a5",
   "metadata": {},
   "outputs": [
    {
     "data": {
      "text/plain": [
       "tipo_de_violencia_economica_y_patrimonial\n",
       "No    53609\n",
       "Si    35931\n",
       "dtype: int64"
      ]
     },
     "execution_count": 31,
     "metadata": {},
     "output_type": "execute_result"
    }
   ],
   "source": [
    "desc_tv_economica_y_patrimonial = df.groupby(df['tipo_de_violencia_economica_y_patrimonial']).size()\n",
    "desc_tv_economica_y_patrimonial\n"
   ]
  },
  {
   "cell_type": "code",
   "execution_count": 40,
   "id": "a451f3a9",
   "metadata": {},
   "outputs": [
    {
     "data": {
      "text/plain": [
       "tipo_de_violencia_simbolica\n",
       "No    58958\n",
       "Si    30582\n",
       "dtype: int64"
      ]
     },
     "execution_count": 40,
     "metadata": {},
     "output_type": "execute_result"
    }
   ],
   "source": [
    "desc_tv_simbolica = df.groupby(df['tipo_de_violencia_simbolica']).size()\n",
    "desc_tv_simbolica"
   ]
  },
  {
   "cell_type": "code",
   "execution_count": 38,
   "id": "9fba8245",
   "metadata": {},
   "outputs": [],
   "source": [
    "df['tipo_de_violencia_simbolica'] = df['tipo_de_violencia_simbolica'].replace('SI','Si')"
   ]
  },
  {
   "cell_type": "code",
   "execution_count": 33,
   "id": "8aff2136",
   "metadata": {},
   "outputs": [
    {
     "data": {
      "text/plain": [
       "tipo_de_violencia_domestica\n",
       "No     8205\n",
       "Si    81335\n",
       "dtype: int64"
      ]
     },
     "execution_count": 33,
     "metadata": {},
     "output_type": "execute_result"
    }
   ],
   "source": [
    "desc_tv_domestica = df.groupby(df['tipo_de_violencia_domestica']).size()\n",
    "desc_tv_domestica"
   ]
  },
  {
   "cell_type": "code",
   "execution_count": 44,
   "id": "10c5d3d0",
   "metadata": {},
   "outputs": [
    {
     "data": {
      "text/plain": [
       "[tipo_de_violencia_fisica\n",
       " No    30575\n",
       " Si    58965\n",
       " dtype: int64,\n",
       " tipo_de_violencia_psicologica\n",
       " No     4547\n",
       " Si    84993\n",
       " dtype: int64,\n",
       " tipo_de_violencia_sexual\n",
       " No    77302\n",
       " Si    12238\n",
       " dtype: int64,\n",
       " tipo_de_violencia_economica_y_patrimonial\n",
       " No    53609\n",
       " Si    35931\n",
       " dtype: int64,\n",
       " tipo_de_violencia_simbolica\n",
       " No    58958\n",
       " Si    30582\n",
       " dtype: int64,\n",
       " tipo_de_violencia_domestica\n",
       " No     8205\n",
       " Si    81335\n",
       " dtype: int64]"
      ]
     },
     "execution_count": 44,
     "metadata": {},
     "output_type": "execute_result"
    }
   ],
   "source": [
    "tv_agrupada = [desc_tv_fisica, desc_tv_psicologica,desc_tv_sexual,desc_tv_economica_y_patrimonial,desc_tv_simbolica,desc_tv_domestica]\n",
    "tv_agrupada"
   ]
  },
  {
   "cell_type": "markdown",
   "id": "9169eb24",
   "metadata": {},
   "source": [
    "En el caso de la descripción de las variables que califican los tipos de violencia consultadas a la línea 144 podemos observar las siguientes conclusiones:\n",
    " - El tipo de violencia con mayor recurrencia fue la violencia psicológica (84993) \n",
    " - El tipo de violenciacon menor recurrencia fue la violencia sexual (84993)\n",
    " "
   ]
  },
  {
   "cell_type": "markdown",
   "id": "121ef892",
   "metadata": {},
   "source": [
    "## Descripción modalidad de violencia"
   ]
  },
  {
   "cell_type": "code",
   "execution_count": 49,
   "id": "01de9d33",
   "metadata": {},
   "outputs": [
    {
     "data": {
      "text/plain": [
       "modalidad_de_violencia_institucional\n",
       "No    88236\n",
       "Si     1304\n",
       "dtype: int64"
      ]
     },
     "execution_count": 49,
     "metadata": {},
     "output_type": "execute_result"
    }
   ],
   "source": [
    "desc_mv_institucional = df.groupby(df['modalidad_de_violencia_institucional']).size()\n",
    "desc_mv_institucional"
   ]
  },
  {
   "cell_type": "code",
   "execution_count": 50,
   "id": "485fb42d",
   "metadata": {},
   "outputs": [],
   "source": [
    "df['modalidad_de_violencia_institucional'] = df['modalidad_de_violencia_institucional'].replace('SI','Si')\n"
   ]
  },
  {
   "cell_type": "code",
   "execution_count": 59,
   "id": "170211b2",
   "metadata": {},
   "outputs": [
    {
     "data": {
      "text/plain": [
       "modalidad_de_violencia_laboral\n",
       "No    88289\n",
       "Si     1251\n",
       "dtype: int64"
      ]
     },
     "execution_count": 59,
     "metadata": {},
     "output_type": "execute_result"
    }
   ],
   "source": [
    "desc_mv_laboral = df.groupby(df['modalidad_de_violencia_laboral']).size()\n",
    "desc_mv_laboral"
   ]
  },
  {
   "cell_type": "code",
   "execution_count": 58,
   "id": "6774b01c",
   "metadata": {},
   "outputs": [],
   "source": [
    "df['modalidad_de_violencia_laboral'] = df['modalidad_de_violencia_laboral'].replace('SI','Si')"
   ]
  },
  {
   "cell_type": "code",
   "execution_count": 56,
   "id": "c112622d",
   "metadata": {},
   "outputs": [
    {
     "data": {
      "text/plain": [
       "modalidad_violencia_contra_libertad_reproductiva\n",
       "No    89140\n",
       "Si      400\n",
       "dtype: int64"
      ]
     },
     "execution_count": 56,
     "metadata": {},
     "output_type": "execute_result"
    }
   ],
   "source": [
    "desc_mv_contra_libertad_reproductiva  = df.groupby(df['modalidad_violencia_contra_libertad_reproductiva']).size()\n",
    "desc_mv_contra_libertad_reproductiva "
   ]
  },
  {
   "cell_type": "code",
   "execution_count": 60,
   "id": "8e2a97f8",
   "metadata": {},
   "outputs": [
    {
     "data": {
      "text/plain": [
       "modalidad_de_violencia_obstetrica\n",
       "No    89455\n",
       "Si       85\n",
       "dtype: int64"
      ]
     },
     "execution_count": 60,
     "metadata": {},
     "output_type": "execute_result"
    }
   ],
   "source": [
    "df['modalidad_de_violencia_obstetrica'] = df['modalidad_de_violencia_obstetrica'].replace('SI','Si')\n",
    "desc_mv_obstetrica = df.groupby(df['modalidad_de_violencia_obstetrica']).size()\n",
    "desc_mv_obstetrica"
   ]
  },
  {
   "cell_type": "code",
   "execution_count": 61,
   "id": "5413729b",
   "metadata": {},
   "outputs": [
    {
     "data": {
      "text/plain": [
       "modalidad_de_violencia_mediatica\n",
       "No    89487\n",
       "Si       53\n",
       "dtype: int64"
      ]
     },
     "execution_count": 61,
     "metadata": {},
     "output_type": "execute_result"
    }
   ],
   "source": [
    "df['modalidad_de_violencia_mediatica'] = df['modalidad_de_violencia_mediatica'].replace('SI','Si')\n",
    "desc_mv_mediatica = df.groupby(df['modalidad_de_violencia_mediatica']).size()\n",
    "desc_mv_mediatica"
   ]
  },
  {
   "cell_type": "code",
   "execution_count": 62,
   "id": "ea282936",
   "metadata": {},
   "outputs": [
    {
     "data": {
      "text/plain": [
       "modalidad_de_violencia_otras\n",
       "No    87434\n",
       "Si     2106\n",
       "dtype: int64"
      ]
     },
     "execution_count": 62,
     "metadata": {},
     "output_type": "execute_result"
    }
   ],
   "source": [
    "df['modalidad_de_violencia_otras'] = df['modalidad_de_violencia_otras'].replace('SI','Si')\n",
    "desc_mv_otras = df.groupby(df['modalidad_de_violencia_otras']).size()\n",
    "desc_mv_otras"
   ]
  },
  {
   "cell_type": "code",
   "execution_count": 64,
   "id": "8e24a685",
   "metadata": {},
   "outputs": [
    {
     "data": {
      "text/plain": [
       "[modalidad_de_violencia_mediatica\n",
       " No    89487\n",
       " Si       53\n",
       " dtype: int64,\n",
       " modalidad_de_violencia_obstetrica\n",
       " No    89455\n",
       " Si       85\n",
       " dtype: int64,\n",
       " modalidad_violencia_contra_libertad_reproductiva\n",
       " No    89140\n",
       " Si      400\n",
       " dtype: int64,\n",
       " modalidad_de_violencia_laboral\n",
       " No    88289\n",
       " Si     1251\n",
       " dtype: int64,\n",
       " modalidad_de_violencia_institucional\n",
       " No    88236\n",
       " Si     1304\n",
       " dtype: int64,\n",
       " modalidad_de_violencia_otras\n",
       " No    87434\n",
       " Si     2106\n",
       " dtype: int64]"
      ]
     },
     "execution_count": 64,
     "metadata": {},
     "output_type": "execute_result"
    }
   ],
   "source": [
    "mv_agrupada = [desc_mv_mediatica, desc_mv_obstetrica,desc_mv_contra_libertad_reproductiva,desc_mv_laboral,desc_mv_institucional,desc_mv_otras]\n",
    "mv_agrupada"
   ]
  },
  {
   "cell_type": "markdown",
   "id": "07e817e3",
   "metadata": {},
   "source": [
    "En el caso de la descripción de las variables que califican las modalidades de violencia consultadas a la línea 144 podemos observar las siguientes conclusiones:\n",
    " - La modalidad con mayor recurrencia se encuentra en la categoria \"otras\" (2106) \n",
    " - La modalidad con menor recurrencia se encuentra en la categoria \"mediatica\"  (53)"
   ]
  }
 ],
 "metadata": {
  "kernelspec": {
   "display_name": "Python 3 (ipykernel)",
   "language": "python",
   "name": "python3"
  },
  "language_info": {
   "codemirror_mode": {
    "name": "ipython",
    "version": 3
   },
   "file_extension": ".py",
   "mimetype": "text/x-python",
   "name": "python",
   "nbconvert_exporter": "python",
   "pygments_lexer": "ipython3",
   "version": "3.11.7"
  }
 },
 "nbformat": 4,
 "nbformat_minor": 5
}
